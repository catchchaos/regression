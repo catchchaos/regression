{
 "cells": [
  {
   "cell_type": "markdown",
   "id": "metric-canon",
   "metadata": {},
   "source": [
    "# The different pictures for linear least squares\n",
    "When presented with a set of training points and asked to fit a line through it, the canonical approach is to start by defining a suitable error function, such as the sum of squared errors. Then, calculus yields a closed-form least squares solution that minimizes the error. If the data contains *N* input features, the linear model contains *(N + 1)* parameters. The partial derivative of the error function w.r.t. each parameter equals *0*, resulting in a simple linear system that can be quickly solved. This calculus-centric view of least squares is a direct consequence of the way most people picture overconstrained linear systems - as points in an *(N + 1)* dimensional plane.\n",
    "\n",
    "Let's revisit this picture with an example from the first recorded application of linear (in the parameters) least squares [1]. In the late eighteenth-century, mathematicians were busy trying to fit a linear model to capture the variation in the Earth's curvature. They hypothesized that the length *Δs* of an arc *Δλ* of a meridian at the geodetic latitude *λ* takes on the form:\n",
    "\n",
    "Δs/Δλ = c₀ + c₁ sin² λ .\n",
    "\n",
    "Their work used data from a series of French surveys conducted a few years earlier in far-off places, including Lapland and Peru. Here is a table detailing some of the locations, along with a regular 2D plot."
   ]
  },
  {
   "cell_type": "markdown",
   "id": "critical-jackson",
   "metadata": {},
   "source": [
    "| Location     | Latitude $\\lambda$ | $\\Delta s/\\Delta \\lambda$ |\n",
    "| :---:        | :---:              | :---:                     |\n",
    "| Peru         | 0                  | 25538.85                  |\n",
    "| Good Hope    | 37.0093            | 25666.65                  |\n",
    "| Pennsylvania | 43.5556            | 25599.6                   |\n",
    "| Italy        | 47.7963            | 25640.55                  |\n",
    "| France       | 51.3327            | 25658.28                  |\n",
    "| Austria      | 53.0926            | 25683.3                   |\n",
    "| Lapland      | 73.7037            | 25832.25                  |\n",
    "Data collected in French surveys [1] in the early 1700s. All lengths are reported in double toises (1/0.256537 m) and angles in gradians (2π/400)"
   ]
  },
  {
   "cell_type": "code",
   "execution_count": 55,
   "id": "digital-delight",
   "metadata": {},
   "outputs": [
    {
     "data": {
      "image/png": "[encoded data removed]",
      "text/plain": [
       "<Figure size 432x288 with 1 Axes>"
      ]
     },
     "metadata": {
      "needs_background": "light"
     },
     "output_type": "display_data"
    }
   ],
   "source": [
    "import numpy as np\n",
    "import pandas as pd\n",
    "import matplotlib.pyplot as plt\n",
    "\n",
    "data = pd.read_csv('survey_data')\n",
    "x = np.sin(data['latitude'] * np.pi / 180) ** 2\n",
    "y = data['ratio']\n",
    "\n",
    "plt.scatter(x, y);\n",
    "for loc, x_i, y_i in zip(data['location'], x, y):\n",
    "    plt.annotate(loc, (x_i, y_i + 6), ha='center', va='bottom')\n",
    "\n",
    "plt.xlim(-.1, 1)\n",
    "plt.yticks(range(25500, 26000, 100), [f'{l/1000}k' for l in range(25500, 26000, 100)])\n",
    "plt.xlabel('Latitude $\\lambda$ (x)');\n",
    "plt.ylabel('$\\Delta s / \\Delta \\lambda$ (y)');"
   ]
  },
  {
   "cell_type": "markdown",
   "id": "acknowledged-reaction",
   "metadata": {},
   "source": [
    "[1] Nievergelt, Yves. [A tutorial history of least squares with applications to astronomy and geodesy.](https://www.sciencedirect.com/science/article/pii/S0377042700003435) (2001), Numerical Analysis: Historical Developments in the 20th Century"
   ]
  }
 ],
 "metadata": {
  "kernelspec": {
   "display_name": "Python 3",
   "language": "python",
   "name": "python3"
  },
  "language_info": {
   "codemirror_mode": {
    "name": "ipython",
    "version": 3
   },
   "file_extension": ".py",
   "mimetype": "text/x-python",
   "name": "python",
   "nbconvert_exporter": "python",
   "pygments_lexer": "ipython3",
   "version": "3.7.3"
  }
 },
 "nbformat": 4,
 "nbformat_minor": 5
}
