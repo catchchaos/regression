{
 "cells": [
  {
   "cell_type": "markdown",
   "id": "relevant-concentrate",
   "metadata": {},
   "source": [
    "# The different pictures of linear least squares\n",
    "When presented with a set of points and asked to fit a curve through it, we typically start by defining a model with some parameters. For example, with a 1-dimensional input, the familiar equation *y = m x + c* is a suitable model when the independent (input) and dependent (output) variables have a strong linear relationship. In this equation, the slope *m* and y-intercept *c* are parameters that need to be estimated. In statistics, the process of finding optimal model parameters is referred to as *regression*. When the output of a model shares a linear relation with the parameters, we call it *linear regression*. Given a new input *xₙ*, a well-chosen model with optimal parameters allows us to make an accurate prediction *yₙ*.\n",
    "\n",
    "Assuming that the output of the model is a linear function of the parameters enables us to derive closed-form approximations for the parameters by the method of *least squares*. A nice property is that the closed-form nature of these approximations persists even for high dimensional inputs. In this article, we will explore the family of *linear least squares* approximations and see how different branches of mathematics approach the problem using vastly different pictures.\n",
    "\n",
    "## The data\n",
    "Let's start with a concrete example from the first recorded application of linear (in the parameters) least squares [2]. In the late eighteenth-century, mathematicians were busy trying to fit a model to capture the variation in the Earth's curvature with increasing latitude. They hypothesized that the length Δ*s* of an arc Δ*λ* of a meridian at the geodetic latitude *λ* takes the form"
   ]
  },
  {
   "cell_type": "markdown",
   "id": "extended-microwave",
   "metadata": {},
   "source": [
    "<!-- $$\\frac{\\Delta s}{\\Delta \\lambda} = c_0 + c_1 \\sin^2{\\lambda}$$ . -->\n",
    "![eq:geodetic](latex_images/geodetic.png)"
   ]
  },
  {
   "cell_type": "markdown",
   "id": "elder-knitting",
   "metadata": {},
   "source": [
    "Notice that the function is not linear in inputs due to the sin² term but continues to be *linear in the parameters*. Their work used data from a series of French surveys conducted a few years earlier in far-off places, with samples ranging from the equatorial to the arctic regions. Here is a table detailing some of the locations, along with a regular 2D plot.\n",
    "\n",
    "<!-- | ID    | Location     | Latitude $\\lambda$ | $\\Delta s/\\Delta \\lambda$ |\n",
    "| :---: | :---:        | :---:              | :---:                     |\n",
    "| 1     | Peru         | 0                  | 25538.85                  |\n",
    "| 2     | Good Hope    | 37.0093            | 25666.65                  |\n",
    "| 3     | Pennsylvania | 43.5556            | 25599.6                   |\n",
    "| 4     | Italy        | 47.7963            | 25640.55                  |\n",
    "| 5     | France       | 51.3327            | 25658.28                  |\n",
    "| 6     | Austria      | 53.0926            | 25683.3                   |\n",
    "| 7     | Lapland      | 73.7037            | 25832.25                  |\n",
    " -->\n",
    "\n",
    "![fig:geodetic data](images/data.jpeg)\n",
    "\n",
    "Data collected in French surveys [1] in the early 1700s. All lengths are reported in double toises (1/0.256537 m) and angles in gradians (2π/400). The relationship is not strictly linear, but we will perform linear regression."
   ]
  },
  {
   "cell_type": "code",
   "execution_count": 1,
   "id": "civilian-benefit",
   "metadata": {},
   "outputs": [],
   "source": [
    "# from plot_utils import *\n",
    "# import matplotlib.pyplot as plt\n",
    "\n",
    "# x, y, _, labels = get_linear_system('survey_data')\n",
    "\n",
    "# _, ax = plt.subplots()\n",
    "# ax.scatter(x, y, color='g');\n",
    "# for loc, x_i, y_i in zip(labels, x, y):\n",
    "#     ax.annotate(loc, (x_i, y_i + 6), ha='center', va='bottom')\n",
    "\n",
    "# labels_2d(ax)"
   ]
  },
  {
   "cell_type": "markdown",
   "id": "expanded-election",
   "metadata": {},
   "source": [
    "Linear regression aims to estimate the parameters of a linear model based on such training data. The canonical approach to regression is to compute and minimize an error between model predictions and ground truth values.  A popular choice is the sum of all the squared differences. Although this isn't the only viable error function, it is the most used one and we will stick to the sum of squared errors throughout this article.\n",
    "\n",
    "## Calculus picture\n",
    "The geodetic model has only two parameters *c₀* and *c₁*. Representing each data point in the training data as *(xᵢ,yᵢ)*, high-school calculus yields optimal values for the parameters. Here *i* is the row index from the table above and the error function to be minimized is the sum of squared errors,"
   ]
  },
  {
   "cell_type": "markdown",
   "id": "offensive-testament",
   "metadata": {},
   "source": [
    "<!-- $$\\mathcal{L} = \\sum_{i=1}^{n} (y_i - \\hat{y}_i )^2 = \\sum_{i=1}^{n} (y_i - (c_0 + c_1 x_i))^2\\,.$$ -->\n",
    "![eq:sum_of_squared_error](latex_images/SSE.png)"
   ]
  },
  {
   "cell_type": "markdown",
   "id": "exposed-wholesale",
   "metadata": {},
   "source": [
    "We then differentiate the error function w.r.t. each parameter and equate to 0. The resulting system of simultaneous equations contains as many equations as parameters and is solved using Gaussian elimination to obtain"
   ]
  },
  {
   "cell_type": "markdown",
   "id": "swedish-concert",
   "metadata": {},
   "source": [
    "<!-- $$\\hat{c}_0 = \\underset{c_0}{\\mathrm{arg\\,min}}\\,\\mathcal{L} = \\bar{y} - \\hat{c}_1 \\bar{x}\\\\\n",
    "\\hat{c}_1 = \\underset{c_1}{\\mathrm{arg\\,min}}\\,\\mathcal{L} = \\frac{\\sum_{i=1}^{n} (x_i - \\bar{x}) (y_i - \\bar{y})}{\\sum_{i=1}^{n} (x_i - \\bar{x})^2}\\,,$$ -->\n",
    "![eq:calculus_least_squares](latex_images/calculus_LS.png)"
   ]
  },
  {
   "cell_type": "markdown",
   "id": "prerequisite-charity",
   "metadata": {},
   "source": [
    "where *x̅* and *y̅* are the average input and output respectively. What we have derived is actually the ordinary least squares (OLS) approximation for the linear system. As we will see, other approximations also exist. For simple low-dimensional systems, we can visualize the surface of the error function."
   ]
  },
  {
   "cell_type": "code",
   "execution_count": 52,
   "id": "southwest-proposition",
   "metadata": {},
   "outputs": [],
   "source": [
    "%%capture\n",
    "import numpy as np\n",
    "import matplotlib.pyplot as plt\n",
    "from plot_utils import *\n",
    "\n",
    "x, y, _, _ = get_linear_system('survey_data')\n",
    "c_0 = np.linspace(25000, 26000)\n",
    "c_1 = np.linspace(-1000, 1000)\n",
    "c_0_xx, c_1_yy = np.meshgrid(c_0, c_1)\n",
    "\n",
    "errs = y[np.newaxis, np.newaxis, :] - c_0_xx[..., np.newaxis] - c_1_yy[..., np.newaxis]*x[np.newaxis, np.newaxis, :]\n",
    "sum_sq_errs = np.sum(errs**2, axis=-1)\n",
    "ax = plt.subplot(projection='3d')\n",
    "ax.plot_surface(c_0_xx, c_1_yy, sum_sq_errs, alpha=0.5)\n",
    "\n",
    "# Ordinary least squares\n",
    "x_bar, y_bar = x.mean(), y.mean()\n",
    "c_1_ols = ((x - x_bar) * (y - y_bar)).sum() \\\n",
    "          / ((x - x_bar)**2).sum()\n",
    "c_0_ols = y_bar - c_1_ols * x_bar\n",
    "c_ols = [c_0_ols, c_1_ols, np.sum((y - c_0_ols[..., np.newaxis] - c_1_ols*x)**2)]\n",
    "ax.scatter(*c_ols, color='r', marker='x')\n",
    "c_ols[2] -= 1000\n",
    "ax.text(*c_ols, 'Minima', va='top')\n",
    "ax.set_xticks([]), ax.set_yticks([]), ax.set_zticks([])\n",
    "\n",
    "save_animation(ax, 'images/loss.gif')"
   ]
  },
  {
   "cell_type": "markdown",
   "id": "prerequisite-large",
   "metadata": {},
   "source": [
    "![fig:loss](images/loss.gif)\n",
    "The surface of the sum of squared errors for the linear system. The OLS solution corresponding to the minimum of the surface is depicted using a red cross. It might not look like the minimum is unique but I ask you to trust the math!"
   ]
  },
  {
   "cell_type": "markdown",
   "id": "lasting-execution",
   "metadata": {},
   "source": [
    "### Weighted least squares\n",
    "All the available data points may not be equally reliable, and we may have evidence to believe that some errors in the sum should be weighted more than others. By ignoring such additional information, we end up with sub-optimal approximations that are strongly affected by outliers. In the example presented above, perhaps the surveyors admitted that collecting accurate data proved challenging in some regions, such as the equatorial rainforests in Peru or the Cape Peninsula. In Lapland, perhaps heavy snow posed great difficulties resulting in a worse measurement.\n",
    "\n",
    "Armed with this additional information, we replace the error function with a weighted sum of the squared errors and proceed with partial differentiation as earlier. The least squares approximation needs a small modification, resulting in the weighted least squares (WLS) solution. You should try to derive the formula by yourself. Let's use weights of 0.25 for the snow affected Lapland region, 0.5 for the slightly erroneous measurements, and stick to 1 for the others."
   ]
  },
  {
   "cell_type": "code",
   "execution_count": 2,
   "id": "irish-dividend",
   "metadata": {},
   "outputs": [
    {
     "name": "stdout",
     "output_type": "stream",
     "text": [
      "25516.26039871393 282.79566187844523\n"
     ]
    },
    {
     "data": {
      "image/png": "[encoded data removed]",
      "text/plain": [
       "<Figure size 432x288 with 1 Axes>"
      ]
     },
     "metadata": {
      "needs_background": "light"
     },
     "output_type": "display_data"
    }
   ],
   "source": [
    "x, y, w, labels = get_linear_system('survey_data')\n",
    "\n",
    "# Ordinary least squares\n",
    "x_bar, y_bar = x.mean(), y.mean()\n",
    "c_1_ols = ((x - x_bar) * (y - y_bar)).sum() \\\n",
    "          / ((x - x_bar)**2).sum()\n",
    "c_0_ols = y_bar - c_1_ols * x_bar\n",
    "print(c_0_ols, c_1_ols)\n",
    "\n",
    "# Weighted least squares\n",
    "x_w_bar, y_w_bar = (w * x).sum() / w.sum(), (w * y).sum() / w.sum()\n",
    "c_1_wls = (w * (x - x_w_bar) * (y - y_w_bar)).sum() \\\n",
    "          / (w * (x - x_w_bar)**2).sum()\n",
    "c_0_wls = y_w_bar - c_1_ols * x_w_bar\n",
    "\n",
    "x_continuous = np.linspace(0, 1)\n",
    "y_ols = c_0_ols + c_1_ols * x_continuous\n",
    "y_wls = c_0_wls + c_1_wls * x_continuous\n",
    "\n",
    "_, ax = plt.subplots()\n",
    "ax.plot(x_continuous, y_ols, '--', label='OLS')\n",
    "ax.plot(x_continuous, y_wls, '--', label='WLS')\n",
    "ax.scatter(x, y, color='g');\n",
    "for loc, x_i, y_i in zip(labels, x, y):\n",
    "    ax.annotate(loc, (x_i, y_i + 6), ha='center', va='bottom')\n",
    "\n",
    "labels_2d(ax, legend=True)"
   ]
  },
  {
   "cell_type": "markdown",
   "id": "wrong-requirement",
   "metadata": {},
   "source": [
    "The OLS and WLS approximations for the geodetic data. The obtained parameters are different because we assumed that some observations are more reliable than others. Thus, they should have higher weights while computing the error function.\n",
    "\n",
    "## Linear algebra picture\n",
    "Moving on to multiple properties or features per input, it becomes imperative to work with vectors and matrices. You can continue with the same picture and use multivariable calculus, but some people prefer a different, geometric view - the linear algebra picture. Let's represent our linear system of *k* input features and *n* equations (one for each data point) using vector-matrix notation (with bold capital letters representing matrices and bold small letters representing vectors): **Xc = y**, or"
   ]
  },
  {
   "cell_type": "markdown",
   "id": "nervous-lancaster",
   "metadata": {},
   "source": [
    "<!-- $$\\begin{bmatrix}\n",
    "x_{11} & x_{12} & \\dots  & x_{1k} \\\\\n",
    "x_{21} & x_{22} & \\dots  & x_{2k} \\\\\n",
    "\\vdots & \\vdots & \\ddots & \\vdots \\\\\n",
    "x_{n1} & x_{n2} & \\dots  & x_{nk} \\\\\n",
    "\\end{bmatrix} \\cdot\n",
    "\\begin{bmatrix} c_{0} \\\\ c_{1} \\\\ \\vdots \\\\ c_{k} \\end{bmatrix} =\n",
    "\\begin{bmatrix} y_{1} \\\\ y_{2} \\\\ \\vdots \\\\ y_{n} \\end{bmatrix}\\,.$$ -->\n",
    "![eq:Xc=y](latex_images/linear_system.png)"
   ]
  },
  {
   "cell_type": "markdown",
   "id": "industrial-merchant",
   "metadata": {},
   "source": [
    "In his [18-06](https://ocw.mit.edu/courses/mathematics/18-06-linear-algebra-spring-2010/) linear algebra course, Gilbert Strang introduces the column space picture of matrix multiplication and postulates that solving any linear system is equivalent to finding coefficients to express **y** as a linear combination or weighted average of the columns of **X**. The problem with real-world overconstrained systems is that **y** lies outside the column space of **X** i.e. no linear combination of the columns of **X** exactly yield **y**. The least squares solution is simply the projection of the vector **y** onto the subspace spanned by the columns of ***X***. Intuitively, this projection **ŷ** is the vector in the column space that is *closest* (according to some measure of error) to **y**. "
   ]
  },
  {
   "cell_type": "markdown",
   "id": "terminal-editing",
   "metadata": {},
   "source": [
    "Unfortunately, the only way modest 3-dimensional beings like us can visualize this is by considering a trivial system consisting of three equations with two parameters. Let's use Peru, Italy, and Lapland from the table and look at the output vector, along with its projection on the column space. Additionally, to better see the picture, we will change the output vector slightly and consider a system of unit vectors."
   ]
  },
  {
   "cell_type": "code",
   "execution_count": 25,
   "id": "pacific-gabriel",
   "metadata": {},
   "outputs": [],
   "source": [
    "%%capture\n",
    "X, y, _, labels = get_filtered_linear_system('survey_data')\n",
    "\n",
    "# Normal to the column space plane\n",
    "normal = np.cross(X[:,0], X[:,1])\n",
    "xx, yy = np.meshgrid(np.linspace(-.2, 1), np.linspace(-.2, 1))\n",
    "z = (-normal[0]*xx -normal[1]*yy) / normal[2]\n",
    "\n",
    "# Project y to the subspace\n",
    "y_hat = X @ np.linalg.inv(X.transpose() @ X) @ X.transpose() @ y\n",
    "\n",
    "ax = plt.subplot(projection='3d')\n",
    "ax.quiver(*np.zeros(3), *X[:,0], arrow_length_ratio=0.1)\n",
    "ax.quiver(*np.zeros(3), *X[:,1], arrow_length_ratio=0.1)\n",
    "ax.quiver(*np.zeros(3), *y, arrow_length_ratio=0.1, color='g')\n",
    "ax.quiver(*np.zeros(3), *y_hat, arrow_length_ratio=0.1, color='c')\n",
    "ax.plot(*[(c1, c2) for c1, c2 in zip(y_hat, y)], color='r', linestyle='--')\n",
    "ax.plot_surface(xx, yy, z, alpha=0.5)\n",
    "\n",
    "ax.text(*y, '$\\mathbf{y}$')\n",
    "ax.text(*y_hat, '$\\mathbf{\\hat{y}}$')\n",
    "ax.text(*X[:,0], '$\\mathbf{x_{\\star 1}}$')\n",
    "ax.text(*X[:,1], '$\\mathbf{x_{\\star 2}}$')\n",
    "\n",
    "labels_3d(ax)\n",
    "# save_animation(ax, 'images/projection.gif')"
   ]
  },
  {
   "cell_type": "markdown",
   "id": "offshore-finnish",
   "metadata": {},
   "source": [
    "![fig:projection](images/projection.gif)\n",
    "The linear algebra picture depicting the column space (blue plane) of the overconstrained linear system. An exact solution is not possible since the output vector **y** (in green) lies outside the column-space. The best approximation, with the smallest error, is given by its projection **ŷ** (cyan vector) which can indeed be represented as a linear combination of the columns of **X**. Finally, the red dotted line is the error between **y** and **ŷ**."
   ]
  },
  {
   "cell_type": "markdown",
   "id": "anonymous-tennessee",
   "metadata": {},
   "source": [
    "Since the projection **ŷ** serves as an approximation of **y**, the resulting error is simply the difference between them, **e** = **y** - **ŷ** (red dotted line). In reality, **e** is perpendicular to every vector in the column space of **X** and, to be precise, is a member of its [left nullspace](https://www.math.utah.edu/~zwick/Classes/Fall2012_2270/Lectures/Lecture19_with_Examples.pdf). Thus, the inner product ⟨**Xᵀ**,**e**⟩ is the **0** vector"
   ]
  },
  {
   "cell_type": "markdown",
   "id": "suspended-tribe",
   "metadata": {},
   "source": [
    "<!-- $$\\langle \\mathbf{X^T}, \\mathbf{e}\\rangle = \\mathbf{0}$$\n",
    "$$\\mathbf{X^T}(\\mathbf{y} - \\mathbf{\\hat{y}}) = \\mathbf{X^T} (\\mathbf{y} - \\mathbf{X\\hat{c}}_{\\scriptscriptstyle OLS}) = \\mathbf{0}$$\n",
    "$$\\implies \\mathbf{\\hat{c}}_{\\scriptscriptstyle OLS} = (\\mathbf{X^T}\\mathbf{X})^{-1} \\mathbf{X^T} \\mathbf{y}\\,.$$ -->\n",
    "![eq:geometric_ordinary_least_squares](latex_images/la_OLS.png)"
   ]
  },
  {
   "cell_type": "markdown",
   "id": "approximate-berlin",
   "metadata": {},
   "source": [
    "This is equivalent to the OLS solution obtained earlier. An important step here is the inversion of **XᵀX**, which requires the columns of **X** to be independent. With this picture, both the tractability and the uniqueness of the OLS approximation become evident.\n",
    "\n",
    "## What about weights?\n",
    "Rearranging the weights into a diagonal matrix **W**, the geometric linear algebra picture holds even for the WLS approximation. We replace the inner product from the previous derivation with a weighted inner product [1]"
   ]
  },
  {
   "cell_type": "markdown",
   "id": "alternative-retention",
   "metadata": {},
   "source": [
    "<!-- $$\\langle \\mathbf{X^T}, \\mathbf{e} \\rangle _\\mathbf{W} = \\mathbf{0}$$\n",
    "$$\\implies \\mathbf{\\hat{c}}_{\\scriptscriptstyle WLS} = (\\mathbf{X^T W X})^\\mathbf{-1} \\mathbf{X^TWy}\\,.$$ -->\n",
    "![eq:geometric_weighted_least_squares](latex_images/la_WLS.png)"
   ]
  },
  {
   "cell_type": "markdown",
   "id": "wireless-integrity",
   "metadata": {},
   "source": [
    "This expression is a special case of a more general solution called generalized least squares. However, to get a better intuition we need to view the problem through the lens of probability.\n",
    "\n",
    "## Probability picture\n",
    "When dealing with data that contains measurement errors, it is natural to rely on probability theory, a branch of mathematics developed specifically for this purpose. Texts on probabilistic machine learning such as Christopher Bishop's excellent [PRML](https://www.microsoft.com/en-us/research/people/cmbishop/prml-book/) often begin with this view of linear least squares. To produce results consistent with our earlier pictures, we will assume that the error in each data point is a random variable drawn from a zero-mean Gaussian distribution with unknown variance σ. Each observation can be represented as"
   ]
  },
  {
   "cell_type": "markdown",
   "id": "biblical-machinery",
   "metadata": {},
   "source": [
    "<!-- $$y_i = \\mathbf{c \\, x_i^T} + e\\, \\quad \\, \\textrm{where}\\, e \\sim \\mathcal{N}(0, \\sigma)$$\n",
    "$$\\mathrm{or}\\,\\, y_i \\sim \\mathcal{N}(\\mathbf{c \\, x_i^T}, \\sigma)$$\n",
    "$$\\implies p(y_i|\\mathbf{c}, \\mathbf{x_i^T}, \\sigma) = \\frac{1}{\\sqrt{2\\pi\\sigma^2}} \\exp{-\\frac{1}{2}\\left(\\frac{y_i - \\mathbf{c \\, x_i^T}}{\\sigma}\\right)^2}\\,.$$ -->\n",
    "![eq:1D gaussian_sample](latex_images/gaussian_1d.png)"
   ]
  },
  {
   "cell_type": "markdown",
   "id": "short-saver",
   "metadata": {},
   "source": [
    "Since σ is constant, assuming each sample is independent and performing maximum likelihood estimation (MLE) produces the familiar expression,"
   ]
  },
  {
   "cell_type": "markdown",
   "id": "modified-midnight",
   "metadata": {},
   "source": [
    "<!-- $$\\begin{align}\n",
    "\\mathbf{\\hat{c}}_{\\scriptscriptstyle OLS} &= \\underset{\\mathbf{c}}{\\mathrm{arg\\,max}}\\, \\prod_{i=1}^n p(y_i|\\mathbf{c}, \\mathbf{x_i^T})\\\\\n",
    "&= \\underset{\\mathbf{c}}{\\mathrm{arg\\,min}}\\, \\sum_{i=1}^n(y_i - \\mathbf{c \\, x_i^T})^2\\,.\n",
    "\\end{align}$$ -->\n",
    "![eq:maximum likelihood estimation](latex_images/MLE.png)"
   ]
  },
  {
   "cell_type": "markdown",
   "id": "exempt-starter",
   "metadata": {},
   "source": [
    "It turns out that computing the Euclidean errors and minimizing the sum of their squares is equivalent to MLE under the assumption of constant Gaussian noise! This is a reasonable assumption for real systems because the error is a byproduct of interference from potentially many different sources as explained in [this post](http://gregorygundersen.com/blog/2019/02/01/clt/). Hence, the *central limit theorem* validates the Gaussian as a suitable model for the additive noise. Different error functions in the calculus derivation correspond to different definitions of the inner product in the linear algebra derivation and different likelihoods in the probability derivation. Papers in computer vision for instance use the absolute difference as an error function, which can be derived under a Laplacian distribution.\n",
    "\n",
    "## Weighted and generalized least squares\n",
    "A natural extension is to look at what happens if each error is no longer restricted to be drawn from the same Gaussian. The samples are still independent but no longer identically distributed and out pops WLS formulation. The probability picture also enables us to reason about the possibility of the errors being correlated. This is the setup for generalized least squares where all the errors are drawn from a k-dimensional multivariate Gaussian with mean 0 and covariance matrix Σ. Proceeding with MLE we end up with the following multivariate minimization,"
   ]
  },
  {
   "cell_type": "markdown",
   "id": "printable-vietnamese",
   "metadata": {},
   "source": [
    "<!-- $$\\mathcal{L} = \\frac{1}{\\sqrt{(2\\pi)^k\\Sigma^{-1}}} \\, \\exp\\frac{-1}{2}(\\mathbf{y} - \\mathbf{Xc}) \\mathbf{^T}  \\mathbf{\\Sigma^{-1}} (\\mathbf{y} - \\mathbf{Xc})$$\n",
    "\\begin{align}\n",
    "\\frac{\\partial \\log\\mathcal{L}}{\\partial \\mathbf{c}} &= \\frac{-1}{2} \\cdot 2 \\, (\\mathbf{y} - \\mathbf{Xc}) \\mathbf{^T} \\mathbf{\\Sigma^{-1}} \\cdot \\frac{\\partial (\\mathbf{y} - \\mathbf{Xc})}{\\partial \\mathbf{c}} \\\\\n",
    "&= (\\mathbf{y} - \\mathbf{Xc}) \\mathbf{^T} \\mathbf{\\Sigma^{-1}} \\mathbf{Xc} = \\mathbf{0}\n",
    "\\end{align}\n",
    "$$\\implies \\mathbf{\\hat{c}}_{\\scriptscriptstyle GLS} = (\\mathbf{X^T \\Sigma^{-1} X})^\\mathbf{-1} \\mathbf{X^T \\Sigma^{-1} y}\\,.$$ -->\n",
    "![eq:generalised least squares](latex_images/vector_GLS.png)"
   ]
  },
  {
   "cell_type": "markdown",
   "id": "related-stick",
   "metadata": {},
   "source": [
    "If you find this hard to follow, refer to this [cheat sheet](https://www.math.uwaterloo.ca/~hwolkowi/matrixcookbook.pdf) for multivariate calculus. Notice the similarities between the WLS and GLS solutions. It becomes obvious that the WLS method is a special case of GLS with a diagonal covariance matrix, but no such conditions are necessary for GLS.\n",
    "\n",
    "## Conclusion\n",
    "The simplicity of its setup and formulation makes linear regression an appealing problem for many communities. As a result, a wide range of approaches has been developed over time, often with different pictures. This article compares a few different views of the variants of linear least squares that ultimately produce the same closed-form expressions, albeit with very different pictures."
   ]
  },
  {
   "cell_type": "markdown",
   "id": "acknowledged-reaction",
   "metadata": {},
   "source": [
    "[1] Farnebäck, Gunnar. [Polynomial expansion for orientation and motion estimation.](https://www.ida.liu.se/ext/WITAS-ev/Computer_Vision_Technologies/PaperInfo/farneback02.html) (2002), Linköping University, Sweden\n",
    "\n",
    "[2] Nievergelt, Yves. [A tutorial history of least squares with applications to astronomy and geodesy.](https://www.sciencedirect.com/science/article/pii/S0377042700003435) (2001), Numerical Analysis: Historical Developments in the 20th Century"
   ]
  }
 ],
 "metadata": {
  "kernelspec": {
   "display_name": "Python 3",
   "language": "python",
   "name": "python3"
  },
  "language_info": {
   "codemirror_mode": {
    "name": "ipython",
    "version": 3
   },
   "file_extension": ".py",
   "mimetype": "text/x-python",
   "name": "python",
   "nbconvert_exporter": "python",
   "pygments_lexer": "ipython3",
   "version": "3.7.3"
  }
 },
 "nbformat": 4,
 "nbformat_minor": 5
}
